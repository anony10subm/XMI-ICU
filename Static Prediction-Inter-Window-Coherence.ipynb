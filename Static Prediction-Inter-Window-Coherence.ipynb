{
 "cells": [
  {
   "cell_type": "code",
   "execution_count": null,
   "id": "ae5215ab",
   "metadata": {},
   "outputs": [],
   "source": [
    "import pandas as pd\n",
    "import numpy as np\n",
    "import time\n",
    "import random\n",
    "import matplotlib.pyplot as plt\n",
    "from xgboost import XGBClassifier\n",
    "import lightgbm as lgb\n",
    "from sklearn.ensemble import RandomForestClassifier\n",
    "from sklearn.linear_model import LogisticRegression\n",
    "from sklearn.discriminant_analysis import LinearDiscriminantAnalysis\n",
    "from sklearn.svm import SVC\n",
    "from skopt import BayesSearchCV\n",
    "from sklearn.model_selection import cross_val_score\n",
    "from sklearn.model_selection import StratifiedKFold\n",
    "from sklearn.metrics import make_scorer\n",
    "from sklearn.metrics import confusion_matrix\n",
    "from sklearn.metrics import accuracy_score\n",
    "from sklearn import metrics\n",
    "from sklearn.model_selection import cross_val_score\n",
    "from sklearn import preprocessing\n",
    "from imblearn.pipeline import Pipeline\n",
    "import shap\n",
    "from sklearn.inspection import permutation_importance\n",
    "# explicitly require this experimental feature\n",
    "from sklearn.experimental import enable_iterative_imputer  # noqa\n",
    "# now you can import normally from sklearn.impute\n",
    "from sklearn.impute import IterativeImputer\n",
    "from xgboost import plot_importance\n",
    "import pickle\n",
    "import seaborn as sns\n",
    "sns.set_theme(style=\"white\", palette=\"rocket_r\")\n",
    "\n",
    "# For reproducibility\n",
    "np.random.seed(42)"
   ]
  },
  {
   "cell_type": "code",
   "execution_count": null,
   "id": "af3cdeaa",
   "metadata": {},
   "outputs": [],
   "source": [
    "# Get the validation folds\n",
    "cv = StratifiedKFold(n_splits=5, shuffle=True, random_state=33)"
   ]
  },
  {
   "cell_type": "markdown",
   "id": "c8c8d2e6",
   "metadata": {},
   "source": [
    "\n",
    "# Death Prediction"
   ]
  },
  {
   "cell_type": "code",
   "execution_count": null,
   "id": "b98a6b7f",
   "metadata": {},
   "outputs": [],
   "source": [
    "X_train6 = np.load('X_train_static_6_index.npy')\n",
    "X_test6 = np.load('X_test_static_6_index.npy')\n",
    "y_train6 = np.load('y_train_static_6_index.npy')\n",
    "y_test6 = np.load('y_test_static_6_index.npy')\n",
    "\n",
    "X_train12= np.load('X_train_static_12_index.npy')\n",
    "X_test12 = np.load('X_test_static_12_index.npy')\n",
    "y_train12 = np.load('y_train_static_12_index.npy')\n",
    "y_test12 = np.load('y_test_static_12_index.npy')\n",
    "\n",
    "X_train18= np.load('X_train_static_18_index.npy')\n",
    "X_test18 = np.load('X_test_static_18_index.npy')\n",
    "y_train18 = np.load('y_train_static_18_index.npy')\n",
    "y_test18 = np.load('y_test_static_18_index.npy')\n",
    "\n",
    "X_train24 = np.load('X_train_static_24_index.npy')\n",
    "X_test24 = np.load('X_test_static_24_index.npy')\n",
    "y_train24 = np.load('y_train_static_24_index.npy')\n",
    "y_test24 = np.load('y_test_static_24_index.npy')"
   ]
  },
  {
   "cell_type": "code",
   "execution_count": null,
   "id": "687e586a",
   "metadata": {},
   "outputs": [],
   "source": [
    "test6 = np.hstack((X_test6, y_test6.reshape(-1, 1)))\n",
    "test12 = np.hstack((X_test12, y_test12.reshape(-1, 1)))\n",
    "test18 = np.hstack((X_test18, y_test18.reshape(-1, 1)))\n",
    "test24 = np.hstack((X_test24, y_test24.reshape(-1, 1)))"
   ]
  },
  {
   "cell_type": "markdown",
   "id": "f8811755",
   "metadata": {},
   "source": [
    "# Impute Missing Values with MICE"
   ]
  },
  {
   "cell_type": "code",
   "execution_count": null,
   "id": "10664c40",
   "metadata": {},
   "outputs": [],
   "source": [
    "imp_mean = IterativeImputer(random_state=0, max_iter = 10)"
   ]
  },
  {
   "cell_type": "code",
   "execution_count": null,
   "id": "511f3ebb",
   "metadata": {},
   "outputs": [],
   "source": [
    "imp_mean.fit(X_train6[:, :-1])\n",
    "X_train_res_6 = imp_mean.transform(X_train6[:, :-1])\n",
    "X_test_res_6 = imp_mean.transform(X_test6[:, :-1])\n",
    "\n",
    "imp_mean.fit(X_train12[:, :-1])\n",
    "X_train_res_12 = imp_mean.transform(X_train12[:, :-1])\n",
    "X_test_res_12 = imp_mean.transform(X_test12[:, :-1])\n",
    "\n",
    "imp_mean.fit(X_train18[:, :-1])\n",
    "X_train_res_18 = imp_mean.transform(X_train18[:, :-1])\n",
    "X_test_res_18 = imp_mean.transform(X_test18[:, :-1])\n",
    "\n",
    "imp_mean.fit(X_train24[:, :-1])\n",
    "X_train_res_24 = imp_mean.transform(X_train24[:, :-1])\n",
    "X_test_res_24 = imp_mean.transform(X_test24[:, :-1])"
   ]
  },
  {
   "cell_type": "markdown",
   "id": "a440d662",
   "metadata": {},
   "source": [
    "# XGBoost"
   ]
  },
  {
   "cell_type": "code",
   "execution_count": null,
   "id": "fb5727da",
   "metadata": {},
   "outputs": [],
   "source": [
    "# Test the model on standalone set\n",
    "XGBOOSTmodel6 = XGBClassifier(scale_pos_weight = 7.352847471127041, max_depth = 12, n_estimators = 350,learning_rate = 0.1, min_split_loss = 0.0, max_delta_step = 10, use_label_encoder=False)"
   ]
  },
  {
   "cell_type": "code",
   "execution_count": null,
   "id": "93594f14",
   "metadata": {},
   "outputs": [],
   "source": [
    "XGBOOSTmodel6.fit(X_train_res_6, np.ravel(y_train6))"
   ]
  },
  {
   "cell_type": "code",
   "execution_count": null,
   "id": "4bc76b40",
   "metadata": {},
   "outputs": [],
   "source": [
    "print('Results:')\n",
    "print('AUROC is:', metrics.roc_auc_score(y_test6, XGBOOSTmodel6.predict_proba(X_test_res_6)[:,1]))\n",
    "print('Accuracy is:', metrics.accuracy_score(y_test6, XGBOOSTmodel6.predict(X_test_res_6)))\n",
    "print('Average Precision is:', metrics.average_precision_score(y_test6, XGBOOSTmodel6.predict_proba(X_test_res_6)[:,1]))\n",
    "print('Weighted F1 is:', metrics.f1_score(y_test6, XGBOOSTmodel6.predict(X_test_res_6), average='weighted'))\n",
    "print('Sensitivity is:', metrics.recall_score(y_test6, XGBOOSTmodel6.predict(X_test_res_6)))\n",
    "print('#################################################')"
   ]
  },
  {
   "cell_type": "code",
   "execution_count": null,
   "id": "df080f8c",
   "metadata": {},
   "outputs": [],
   "source": [
    "# Test the model on standalone set\n",
    "XGBOOSTmodel12 = XGBClassifier(scale_pos_weight = 7.710456942, max_depth = 10, n_estimators = 350,learning_rate = 0.1, min_split_loss = 0.0, max_delta_step = 0, use_label_encoder=False)"
   ]
  },
  {
   "cell_type": "code",
   "execution_count": null,
   "id": "38ae6b6d",
   "metadata": {},
   "outputs": [],
   "source": [
    "XGBOOSTmodel12.fit(X_train_res_12, np.ravel(y_train12))"
   ]
  },
  {
   "cell_type": "code",
   "execution_count": null,
   "id": "a3f09815",
   "metadata": {},
   "outputs": [],
   "source": [
    "print('Results:')\n",
    "print('AUROC is:', metrics.roc_auc_score(y_test12, XGBOOSTmodel12.predict_proba(X_test_res_12)[:,1]))\n",
    "print('Accuracy is:', metrics.accuracy_score(y_test12, XGBOOSTmodel12.predict(X_test_res_12)))\n",
    "print('Average Precision is:', metrics.average_precision_score(y_test12, XGBOOSTmodel12.predict_proba(X_test_res_12)[:,1]))\n",
    "print('Weighted F1 is:', metrics.f1_score(y_test12, XGBOOSTmodel12.predict(X_test_res_12), average='weighted'))\n",
    "print('Sensitivity is:', metrics.recall_score(y_test12, XGBOOSTmodel12.predict(X_test_res_12)))\n",
    "print('#################################################')"
   ]
  },
  {
   "cell_type": "code",
   "execution_count": null,
   "id": "955626f7",
   "metadata": {},
   "outputs": [],
   "source": [
    "# Test the model on standalone set\n",
    "XGBOOSTmodel18 = XGBClassifier(scale_pos_weight = 7.65759312321, max_depth = 12, n_estimators = 350,learning_rate = 0.1, min_split_loss = 0.0, max_delta_step = 7, use_label_encoder=False)"
   ]
  },
  {
   "cell_type": "code",
   "execution_count": null,
   "id": "5c6d56ff",
   "metadata": {},
   "outputs": [],
   "source": [
    "XGBOOSTmodel18.fit(X_train_res_18, np.ravel(y_train18))"
   ]
  },
  {
   "cell_type": "code",
   "execution_count": null,
   "id": "3d4a4dfa",
   "metadata": {},
   "outputs": [],
   "source": [
    "print('Results:')\n",
    "print('AUROC is:', metrics.roc_auc_score(y_test18, XGBOOSTmodel18.predict_proba(X_test_res_18)[:,1]))\n",
    "print('Accuracy is:', metrics.accuracy_score(y_test18, XGBOOSTmodel18.predict(X_test_res_18)))\n",
    "print('Average Precision is:', metrics.average_precision_score(y_test18, XGBOOSTmodel18.predict_proba(X_test_res_18)[:,1]))\n",
    "print('Weighted F1 is:', metrics.f1_score(y_test18, XGBOOSTmodel18.predict(X_test_res_18), average='weighted'))\n",
    "print('Sensitivity is:', metrics.recall_score(y_test18, XGBOOSTmodel18.predict(X_test_res_18)))\n",
    "print('#################################################')"
   ]
  },
  {
   "cell_type": "code",
   "execution_count": null,
   "id": "a2457f78",
   "metadata": {},
   "outputs": [],
   "source": [
    "# Test the model on standalone set\n",
    "XGBOOSTmodel24 = XGBClassifier(scale_pos_weight = 7.08745445081, max_depth = 12, n_estimators = 350,learning_rate = 0.1, min_split_loss = 0.0, max_delta_step = 5, use_label_encoder=False)"
   ]
  },
  {
   "cell_type": "code",
   "execution_count": null,
   "id": "108cf256",
   "metadata": {},
   "outputs": [],
   "source": [
    "XGBOOSTmodel24.fit(X_train_res_24, np.ravel(y_train24))"
   ]
  },
  {
   "cell_type": "code",
   "execution_count": null,
   "id": "01268826",
   "metadata": {},
   "outputs": [],
   "source": [
    "print('Results:')\n",
    "print('AUROC is:', metrics.roc_auc_score(y_test24, XGBOOSTmodel24.predict_proba(X_test_res_24)[:,1]))\n",
    "print('Accuracy is:', metrics.accuracy_score(y_test24, XGBOOSTmodel24.predict(X_test_res_24)))\n",
    "print('Average Precision is:', metrics.average_precision_score(y_test24, XGBOOSTmodel24.predict_proba(X_test_res_24)[:,1]))\n",
    "print('Weighted F1 is:', metrics.f1_score(y_test24, XGBOOSTmodel24.predict(X_test_res_24), average='weighted'))\n",
    "print('Sensitivity is:', metrics.recall_score(y_test24, XGBOOSTmodel24.predict(X_test_res_24)))\n",
    "print('#################################################')"
   ]
  },
  {
   "cell_type": "code",
   "execution_count": null,
   "id": "050572e1",
   "metadata": {},
   "outputs": [],
   "source": [
    "intersection1 = np.intersect1d(X_test24[:, -1], X_test18[:, -1])"
   ]
  },
  {
   "cell_type": "code",
   "execution_count": null,
   "id": "c01a9e5d",
   "metadata": {},
   "outputs": [],
   "source": [
    "intersection2 = np.intersect1d(X_test12[:, -1], X_test6[:, -1])"
   ]
  },
  {
   "cell_type": "code",
   "execution_count": null,
   "id": "cdf84f2f",
   "metadata": {},
   "outputs": [],
   "source": [
    "intersection = np.intersect1d(intersection1, intersection2)"
   ]
  },
  {
   "cell_type": "code",
   "execution_count": null,
   "id": "0ff40112",
   "metadata": {},
   "outputs": [],
   "source": [
    "mask24 = []\n",
    "for i in intersection:\n",
    "    mask24.append(np.where(X_test24[:,-1]==i))\n",
    "mask24 = np.concatenate(mask24, axis=0)\n",
    "X_test_res_24[mask24][:, 0, :]\n",
    "XGBOOSTmodel24.predict(X_test_res_24[mask24][:, 0, :]), y_test24[mask24]"
   ]
  },
  {
   "cell_type": "code",
   "execution_count": null,
   "id": "6200ddd1",
   "metadata": {},
   "outputs": [],
   "source": [
    "mask18 = []\n",
    "for i in intersection:\n",
    "    mask18.append(np.where(X_test18[:,-1]==i))\n",
    "mask18 = np.concatenate(mask18, axis=0)\n",
    "X_test_res_18[mask18][:, 0, :]\n",
    "XGBOOSTmodel18.predict(X_test_res_18[mask18][:, 0, :]), y_test18[mask18]"
   ]
  },
  {
   "cell_type": "code",
   "execution_count": null,
   "id": "f46ac003",
   "metadata": {},
   "outputs": [],
   "source": [
    "mask12 = []\n",
    "for i in intersection:\n",
    "    mask12.append(np.where(X_test12[:,-1]==i))\n",
    "mask12 = np.concatenate(mask12, axis=0)\n",
    "X_test_res_12[mask12][:, 0, :]\n",
    "XGBOOSTmodel12.predict(X_test_res_12[mask12][:, 0, :]), y_test12[mask12]"
   ]
  },
  {
   "cell_type": "code",
   "execution_count": null,
   "id": "1eba687e",
   "metadata": {},
   "outputs": [],
   "source": [
    "mask6 = []\n",
    "for i in intersection:\n",
    "    mask6.append(np.where(X_test6[:,-1]==i))\n",
    "mask6 = np.concatenate(mask6, axis=0)\n",
    "X_test_res_6[mask6][:, 0, :]\n",
    "XGBOOSTmodel6.predict(X_test_res_6[mask6][:, 0, :]), y_test6[mask6].ravel()"
   ]
  },
  {
   "cell_type": "code",
   "execution_count": null,
   "id": "4b96488a",
   "metadata": {},
   "outputs": [],
   "source": [
    "# How many are predicted wrong at 6 but are correct at all times before\n",
    "correct_at_24 = mask24[XGBOOSTmodel24.predict(X_test_res_24[mask24][:, 0, :]) == y_test24[mask24].ravel()]\n",
    "correct_at_18 = mask18[XGBOOSTmodel18.predict(X_test_res_18[mask18][:, 0, :]) == y_test18[mask18].ravel()]\n",
    "correct_at_12 = mask12[XGBOOSTmodel12.predict(X_test_res_12[mask12][:, 0, :]) == y_test12[mask12].ravel()]\n",
    "\n",
    "correct_at_24.shape, correct_at_18.shape, correct_at_12.shape"
   ]
  },
  {
   "cell_type": "code",
   "execution_count": null,
   "id": "e9d01b08",
   "metadata": {},
   "outputs": [],
   "source": [
    "intersect_18_24_correct = np.intersect1d(X_test24[correct_at_24][:, 0, :][:, -1], X_test18[correct_at_18][:, 0, :][:, -1])"
   ]
  },
  {
   "cell_type": "code",
   "execution_count": null,
   "id": "816da77e",
   "metadata": {},
   "outputs": [],
   "source": [
    "intersect_12_18_correct = np.intersect1d(intersect_18_24_correct, X_test12[correct_at_12][:, 0, :][:, -1])"
   ]
  },
  {
   "cell_type": "code",
   "execution_count": null,
   "id": "35885680",
   "metadata": {},
   "outputs": [],
   "source": [
    "# intersect_12_18_correct is index of those test rows correct at 24, 18, and 12, get incorrect at 6\n",
    "incorrect_at_6 = mask6[~(XGBOOSTmodel6.predict(X_test_res_6[mask6][:, 0, :]) == y_test6[mask6].ravel())]\n",
    "final_incorrect = np.intersect1d(intersect_12_18_correct, X_test6[incorrect_at_6][:, 0, :][:, -1])"
   ]
  },
  {
   "cell_type": "code",
   "execution_count": null,
   "id": "d8f9a541",
   "metadata": {},
   "outputs": [],
   "source": [
    "final_incorrect"
   ]
  },
  {
   "cell_type": "code",
   "execution_count": null,
   "id": "ab1abe97",
   "metadata": {},
   "outputs": [],
   "source": [
    "# Repeat analysis for those correct at 18 and 12, and incorrect at 6\n",
    "intersection = np.intersect1d(X_test12[:, -1], X_test6[:, -1])\n",
    "intersection = np.intersect1d(intersection, X_test18[:, -1])\n",
    "\n",
    "mask18 = []\n",
    "for i in intersection:\n",
    "    mask18.append(np.where(X_test18[:,-1]==i))\n",
    "mask18 = np.concatenate(mask18, axis=0)\n",
    "X_test_res_18[mask18][:, 0, :]\n",
    "\n",
    "mask12 = []\n",
    "for i in intersection:\n",
    "    mask12.append(np.where(X_test12[:,-1]==i))\n",
    "mask12 = np.concatenate(mask12, axis=0)\n",
    "X_test_res_12[mask12][:, 0, :]\n",
    "\n",
    "mask6 = []\n",
    "for i in intersection:\n",
    "    mask6.append(np.where(X_test6[:,-1]==i))\n",
    "mask6 = np.concatenate(mask6, axis=0)\n",
    "X_test_res_6[mask6][:, 0, :]\n",
    "\n",
    "# How many are predicted wrong at 6 but are correct at all times before\n",
    "correct_at_18 = mask18[XGBOOSTmodel18.predict(X_test_res_18[mask18][:, 0, :]) == y_test18[mask18].ravel()]\n",
    "correct_at_12 = mask12[XGBOOSTmodel12.predict(X_test_res_12[mask12][:, 0, :]) == y_test12[mask12].ravel()]\n",
    "\n",
    "correct_at_18.shape, correct_at_12.shape"
   ]
  },
  {
   "cell_type": "code",
   "execution_count": null,
   "id": "503305a8",
   "metadata": {},
   "outputs": [],
   "source": [
    "intersect_12_18_correct = np.intersect1d(X_test18[correct_at_18][:, 0, :][:, -1], X_test12[correct_at_12][:, 0, :][:, -1])"
   ]
  },
  {
   "cell_type": "code",
   "execution_count": null,
   "id": "43d28c51",
   "metadata": {},
   "outputs": [],
   "source": [
    "# intersect_12_18_correct is index of those test rows correct at 18, and 12, get incorrect at 6\n",
    "incorrect_at_6 = mask6[~(XGBOOSTmodel6.predict(X_test_res_6[mask6][:, 0, :]) == y_test6[mask6].ravel())]\n",
    "np.intersect1d(intersect_12_18_correct, X_test6[incorrect_at_6][:, 0, :][:, -1]).shape"
   ]
  },
  {
   "cell_type": "code",
   "execution_count": null,
   "id": "246d6167",
   "metadata": {},
   "outputs": [],
   "source": [
    "# Repeat analysis for those correct at 12, and incorrect at 6\n",
    "intersection = np.intersect1d(X_test12[:, -1], X_test6[:, -1])\n",
    "\n",
    "mask12 = []\n",
    "for i in intersection:\n",
    "    mask12.append(np.where(X_test12[:,-1]==i))\n",
    "mask12 = np.concatenate(mask12, axis=0)\n",
    "X_test_res_12[mask12][:, 0, :]\n",
    "\n",
    "mask6 = []\n",
    "for i in intersection:\n",
    "    mask6.append(np.where(X_test6[:,-1]==i))\n",
    "mask6 = np.concatenate(mask6, axis=0)\n",
    "X_test_res_6[mask6][:, 0, :]\n",
    "\n",
    "# How many are correct at all times before 6\n",
    "correct_at_12 = mask12[XGBOOSTmodel12.predict(X_test_res_12[mask12][:, 0, :]) == y_test12[mask12].ravel()]\n",
    "\n",
    "correct_at_12.shape"
   ]
  },
  {
   "cell_type": "code",
   "execution_count": null,
   "id": "07649ef0",
   "metadata": {},
   "outputs": [],
   "source": [
    "# Get incorrect at 6\n",
    "incorrect_at_6 = mask6[~(XGBOOSTmodel6.predict(X_test_res_6[mask6][:, 0, :]) == y_test6[mask6].ravel())]\n",
    "np.intersect1d(X_test12[correct_at_12][:, 0, :][:, -1], X_test6[incorrect_at_6][:, 0, :][:, -1]).shape"
   ]
  },
  {
   "cell_type": "code",
   "execution_count": null,
   "id": "a88121f8",
   "metadata": {},
   "outputs": [],
   "source": [
    "X_test6.shape, X_test12.shape, X_test18.shape, X_test24.shape"
   ]
  },
  {
   "cell_type": "code",
   "execution_count": null,
   "id": "d35d9fc8",
   "metadata": {},
   "outputs": [],
   "source": []
  }
 ],
 "metadata": {
  "kernelspec": {
   "display_name": "Python 3 (ipykernel)",
   "language": "python",
   "name": "python3"
  },
  "language_info": {
   "codemirror_mode": {
    "name": "ipython",
    "version": 3
   },
   "file_extension": ".py",
   "mimetype": "text/x-python",
   "name": "python",
   "nbconvert_exporter": "python",
   "pygments_lexer": "ipython3",
   "version": "3.8.13"
  }
 },
 "nbformat": 4,
 "nbformat_minor": 5
}
