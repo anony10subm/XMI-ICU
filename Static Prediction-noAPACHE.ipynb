{
 "cells": [
  {
   "cell_type": "code",
   "execution_count": null,
   "id": "ae5215ab",
   "metadata": {},
   "outputs": [],
   "source": [
    "import pandas as pd\n",
    "import numpy as np\n",
    "import time\n",
    "import random\n",
    "import matplotlib.pyplot as plt\n",
    "from xgboost import XGBClassifier\n",
    "import lightgbm as lgb\n",
    "from sklearn.ensemble import RandomForestClassifier\n",
    "from sklearn.linear_model import LogisticRegression\n",
    "from sklearn.discriminant_analysis import LinearDiscriminantAnalysis\n",
    "from sklearn.svm import SVC\n",
    "from skopt import BayesSearchCV\n",
    "from sklearn.model_selection import cross_val_score\n",
    "from sklearn.model_selection import StratifiedKFold\n",
    "from sklearn.metrics import make_scorer\n",
    "from sklearn.metrics import confusion_matrix\n",
    "from sklearn.metrics import accuracy_score\n",
    "from sklearn import metrics\n",
    "from sklearn.model_selection import cross_val_score\n",
    "from sklearn import preprocessing\n",
    "from imblearn.pipeline import Pipeline\n",
    "import shap\n",
    "from sklearn.inspection import permutation_importance\n",
    "# explicitly require this experimental feature\n",
    "from sklearn.experimental import enable_iterative_imputer  # noqa\n",
    "# now you can import normally from sklearn.impute\n",
    "from sklearn.impute import IterativeImputer\n",
    "from xgboost import plot_importance\n",
    "import pickle\n",
    "import seaborn as sns\n",
    "sns.set_theme(style=\"white\", palette=\"rocket_r\")\n",
    "\n",
    "# For reproducibility\n",
    "np.random.seed(42)"
   ]
  },
  {
   "cell_type": "code",
   "execution_count": null,
   "id": "af3cdeaa",
   "metadata": {},
   "outputs": [],
   "source": [
    "# Get the validation folds\n",
    "cv = StratifiedKFold(n_splits=5, shuffle=True, random_state=33)"
   ]
  },
  {
   "cell_type": "markdown",
   "id": "c8c8d2e6",
   "metadata": {},
   "source": [
    "# 6-hour Death Prediction"
   ]
  },
  {
   "cell_type": "code",
   "execution_count": null,
   "id": "b98a6b7f",
   "metadata": {},
   "outputs": [],
   "source": [
    "X_train = np.load('X_train_static_6.npy')\n",
    "X_test = np.load('X_test_static_6.npy')\n",
    "y_train = np.load('y_train_static_6.npy')\n",
    "y_test = np.load('y_test_static_6.npy')"
   ]
  },
  {
   "cell_type": "code",
   "execution_count": null,
   "id": "42cc6862",
   "metadata": {},
   "outputs": [],
   "source": [
    "# Remove APACHE\n",
    "X_train = np.delete(X_train, 2, 1)\n",
    "X_test = np.delete(X_test, 2, 1)"
   ]
  },
  {
   "cell_type": "code",
   "execution_count": null,
   "id": "14df1ed9",
   "metadata": {},
   "outputs": [],
   "source": [
    "np.unique(y_train, return_counts=True)"
   ]
  },
  {
   "cell_type": "code",
   "execution_count": null,
   "id": "b4efa37b",
   "metadata": {},
   "outputs": [],
   "source": [
    "18463/2511"
   ]
  },
  {
   "cell_type": "markdown",
   "id": "f8811755",
   "metadata": {},
   "source": [
    "# Impute Missing Values with MICE"
   ]
  },
  {
   "cell_type": "code",
   "execution_count": null,
   "id": "10664c40",
   "metadata": {},
   "outputs": [],
   "source": [
    "imp_mean = IterativeImputer(random_state=0, max_iter = 10)"
   ]
  },
  {
   "cell_type": "code",
   "execution_count": null,
   "id": "511f3ebb",
   "metadata": {},
   "outputs": [],
   "source": [
    "imp_mean.fit(X_train)\n",
    "X_train_res = imp_mean.transform(X_train)\n",
    "X_test_res = imp_mean.transform(X_test)"
   ]
  },
  {
   "cell_type": "markdown",
   "id": "a440d662",
   "metadata": {},
   "source": [
    "# XGBoost"
   ]
  },
  {
   "cell_type": "code",
   "execution_count": null,
   "id": "305fcfe2",
   "metadata": {},
   "outputs": [],
   "source": [
    "# Define the model you are interested in\n",
    "XGBOOSTmodel = XGBClassifier(use_label_encoder=False)\n",
    "imputer = IterativeImputer(random_state=0, max_iter = 10)\n",
    "pipeline = Pipeline(steps=[('i', imputer), ('m', XGBOOSTmodel)])"
   ]
  },
  {
   "cell_type": "code",
   "execution_count": null,
   "id": "7af5a76d",
   "metadata": {},
   "outputs": [],
   "source": [
    "# Tune the XGBoost model using Bayesian optimisation\n",
    "# Define the hyperparameters you want to sweep through (important it is manual for generalisation)\n",
    "# C for regularisation if doing regression\n",
    "# kernel if doing SVM for example\n",
    "\n",
    "# In this case we are tuning for XGBoost hyperparameters\n",
    "# Depth of tree\n",
    "max_depth = np.linspace(1, 12, 12, endpoint=True)\n",
    "max_depth = [round(x) for x in max_depth]\n",
    "# maximum features\n",
    "n_estimators = list(range(50, 400, 50))\n",
    "# Learning rate\n",
    "lr = [0.001, 0.01, 0.1, 0.3, 0.5, 0.7]\n",
    "# Regularisation for imbalanced data\n",
    "max_delta_step = [0, 1, 3, 5, 7, 10]\n",
    "# Gamma for overfitting control\n",
    "min_split_loss = [0, 0.5]\n",
    "# Balance weights for imbalanced classes for AUC\n",
    "scale_pos_weight = [7.352847471127041]\n",
    "\n",
    "# Create the grid\n",
    "param_grid = {'m__max_depth': max_depth,\n",
    "               'm__n_estimators': n_estimators,\n",
    "               'm__learning_rate': lr,\n",
    "              'm__max_delta_step': max_delta_step,\n",
    "             'm__min_split_loss': min_split_loss,\n",
    "             'm__scale_pos_weight': scale_pos_weight}"
   ]
  },
  {
   "cell_type": "code",
   "execution_count": null,
   "id": "72805f56",
   "metadata": {},
   "outputs": [],
   "source": [
    "# Try with Bayesian optimisation for faster computation of tuning\n",
    "opt = BayesSearchCV(pipeline, param_grid, n_iter=50, cv=cv, verbose=1, refit=False, scoring='roc_auc')\n",
    "opt.fit(X_train, np.ravel(y_train))"
   ]
  },
  {
   "cell_type": "code",
   "execution_count": null,
   "id": "1a84e295",
   "metadata": {},
   "outputs": [],
   "source": [
    "# With the following parameter combination being optimal\n",
    "print(\"Best parameter combo:\", opt.best_params_)\n",
    "# Having the following score\n",
    "print(\"Best AUROC:\", opt.best_score_)"
   ]
  },
  {
   "cell_type": "code",
   "execution_count": null,
   "id": "fb5727da",
   "metadata": {},
   "outputs": [],
   "source": [
    "# Test the model on standalone set\n",
    "XGBOOSTmodel = XGBClassifier(scale_pos_weight = 7.352847471127041, max_depth = 10, n_estimators = 200,learning_rate = 0.1, min_split_loss = 0.5, max_delta_step = 0, use_label_encoder=False)"
   ]
  },
  {
   "cell_type": "code",
   "execution_count": null,
   "id": "93594f14",
   "metadata": {},
   "outputs": [],
   "source": [
    "XGBOOSTmodel.fit(X_train_res, np.ravel(y_train))"
   ]
  },
  {
   "cell_type": "code",
   "execution_count": null,
   "id": "29d9f08b",
   "metadata": {},
   "outputs": [],
   "source": [
    "print('Results:')\n",
    "print('AUROC is:', metrics.roc_auc_score(y_test, XGBOOSTmodel.predict_proba(X_test_res)[:,1]))\n",
    "print('Accuracy is:', metrics.accuracy_score(y_test, XGBOOSTmodel.predict(X_test_res)))\n",
    "print('Average Precision is:', metrics.average_precision_score(y_test, XGBOOSTmodel.predict_proba(X_test_res)[:,1]))\n",
    "print('Weighted F1 is:', metrics.f1_score(y_test, XGBOOSTmodel.predict(X_test_res), average='weighted'))\n",
    "print('Sensitivity is:', metrics.recall_score(y_test, XGBOOSTmodel.predict(X_test_res)))\n",
    "print('Balanced accuracy is:', metrics.balanced_accuracy_score(y_test, XGBOOSTmodel.predict(X_test_res)))\n",
    "print('Specificity is:', metrics.recall_score(y_test, XGBOOSTmodel.predict(X_test_res), pos_label=0))\n",
    "print('#################################################')"
   ]
  },
  {
   "cell_type": "code",
   "execution_count": null,
   "id": "ef7a654d",
   "metadata": {},
   "outputs": [],
   "source": [
    "# Make metric plots\n",
    "metrics.plot_roc_curve(XGBOOSTmodel, X_test_res, y_test) \n",
    "metrics.plot_precision_recall_curve(XGBOOSTmodel, X_test_res, y_test) \n",
    "plt.show()"
   ]
  },
  {
   "cell_type": "code",
   "execution_count": null,
   "id": "7d41ce8d",
   "metadata": {},
   "outputs": [],
   "source": [
    "# Confusion matrix\n",
    "ax = sns.heatmap(confusion_matrix(y_test, XGBOOSTmodel.predict(X_test_res)), annot=True, cmap='Reds')\n",
    "\n",
    "ax.set_title('Confusion Matrix\\n\\n');\n",
    "ax.set_xlabel('\\nPredicted Values')\n",
    "ax.set_ylabel('Actual Values ');\n",
    "\n",
    "## Ticket labels - List must be in alphabetical order\n",
    "ax.xaxis.set_ticklabels(['False','True'])\n",
    "ax.yaxis.set_ticklabels(['False','True'])\n",
    "\n",
    "## Display the visualization of the Confusion Matrix.\n",
    "plt.show()"
   ]
  },
  {
   "cell_type": "code",
   "execution_count": null,
   "id": "844a412a",
   "metadata": {},
   "outputs": [],
   "source": [
    "features = ['secondary MI',\n",
    " 'Time Since Admission',\n",
    " 'gender',\n",
    " 'age',\n",
    " 'admissionheight',\n",
    " 'admissionweight',\n",
    " 'hour',\n",
    " 'teachingstatus',\n",
    " 'ethnicity_African American',\n",
    " 'ethnicity_Asian',\n",
    " 'ethnicity_Caucasian',\n",
    " 'ethnicity_Hispanic',\n",
    " 'ethnicity_Native American',\n",
    " 'ethnicity_Other/Unknown',\n",
    " 'unittype_CCU-CTICU',\n",
    " 'unittype_CSICU',\n",
    " 'unittype_CTICU',\n",
    " 'unittype_Cardiac ICU',\n",
    " 'unittype_MICU',\n",
    " 'unittype_Med-Surg ICU',\n",
    " 'unittype_Neuro ICU',\n",
    " 'unittype_SICU',\n",
    " 'unitadmitsource_Acute Care/Floor',\n",
    " 'unitadmitsource_Direct Admit',\n",
    " 'unitadmitsource_Emergency Department',\n",
    " 'unitadmitsource_Floor',\n",
    " 'unitadmitsource_Operating Room',\n",
    " 'unitadmitsource_Other Hospital',\n",
    " 'unitadmitsource_PACU',\n",
    " 'unitadmitsource_Recovery Room',\n",
    " 'unitadmitsource_Step-Down Unit (SDU)',\n",
    " 'unitadmitsource_misc',\n",
    " 'unitvisitnumber_1',\n",
    " 'unitvisitnumber_2',\n",
    " 'unitvisitnumber_3',\n",
    " 'unitvisitnumber_misc',\n",
    " 'unitstaytype_admit',\n",
    " 'unitstaytype_readmit',\n",
    " 'unitstaytype_transfer',\n",
    " 'physicianspeciality_Specialty Not Specified',\n",
    " 'physicianspeciality_cardiology',\n",
    " 'physicianspeciality_critical care medicine (CCM)',\n",
    " 'physicianspeciality_family practice',\n",
    " 'physicianspeciality_hospitalist',\n",
    " 'physicianspeciality_internal medicine',\n",
    " 'physicianspeciality_misc',\n",
    " 'physicianspeciality_neurology',\n",
    " 'physicianspeciality_other',\n",
    " 'physicianspeciality_pulmonary',\n",
    " 'physicianspeciality_pulmonary/CCM',\n",
    " 'physicianspeciality_surgery-cardiac',\n",
    " 'physicianspeciality_surgery-general',\n",
    " 'physicianspeciality_surgery-neuro',\n",
    " 'physicianspeciality_surgery-trauma',\n",
    " 'physicianspeciality_surgery-vascular',\n",
    " 'physicianspeciality_unknown',\n",
    " 'numbedscategory_100 - 249',\n",
    " 'numbedscategory_250 - 499',\n",
    " 'numbedscategory_<100',\n",
    " 'numbedscategory_>= 500',\n",
    " 'region_Midwest',\n",
    " 'region_Northeast',\n",
    " 'region_South',\n",
    " 'region_West',\n",
    " 'noninvasivesystolic_mean',\n",
    " 'noninvasivediastolic_mean',\n",
    " 'noninvasivemean_mean',\n",
    " 'noninvasivesystolic_std',\n",
    " 'noninvasivediastolic_std',\n",
    " 'noninvasivemean_std',\n",
    " '-basos_mean',\n",
    " '-eos_mean',\n",
    " '-lymphs_mean',\n",
    " '-monos_mean',\n",
    " '-polys_mean',\n",
    " 'ALT (SGPT)_mean',\n",
    " 'AST (SGOT)_mean',\n",
    " 'BUN_mean',\n",
    " 'Base Excess_mean',\n",
    " 'FiO2_mean',\n",
    " 'HCO3_mean',\n",
    " 'Hct_mean',\n",
    " 'Hgb_mean',\n",
    " 'MCH_mean',\n",
    " 'MCHC_mean',\n",
    " 'MCV_mean',\n",
    " 'MPV_mean',\n",
    " 'O2 Sat (%)_mean',\n",
    " 'PT_mean',\n",
    " 'PT - INR_mean',\n",
    " 'PTT_mean',\n",
    " 'RBC_mean',\n",
    " 'RDW_mean',\n",
    " 'WBC x 1000_mean',\n",
    " 'albumin_mean',\n",
    " 'alkaline phos._mean',\n",
    " 'anion gap_mean',\n",
    " 'bedside glucose_mean',\n",
    " 'bicarbonate_mean',\n",
    " 'calcium_mean',\n",
    " 'chloride_mean',\n",
    " 'creatinine_mean',\n",
    " 'glucose_mean',\n",
    " 'lactate_mean',\n",
    " 'magnesium_mean',\n",
    " 'pH_mean',\n",
    " 'paCO2_mean',\n",
    " 'paO2_mean',\n",
    " 'phosphate_mean',\n",
    " 'platelets x 1000_mean',\n",
    " 'potassium_mean',\n",
    " 'sodium_mean',\n",
    " 'total bilirubin_mean',\n",
    " 'total protein_mean',\n",
    " 'troponin - I_mean',\n",
    " 'urinary specific gravity_mean',\n",
    " '-basos_std',\n",
    " '-eos_std',\n",
    " '-lymphs_std',\n",
    " '-monos_std',\n",
    " '-polys_std',\n",
    " 'ALT (SGPT)_std',\n",
    " 'AST (SGOT)_std',\n",
    " 'BUN_std',\n",
    " 'Base Excess_std',\n",
    " 'FiO2_std',\n",
    " 'HCO3_std',\n",
    " 'Hct_std',\n",
    " 'Hgb_std',\n",
    " 'MCH_std',\n",
    " 'MCHC_std',\n",
    " 'MCV_std',\n",
    " 'MPV_std',\n",
    " 'O2 Sat (%)_std',\n",
    " 'PT_std',\n",
    " 'PT - INR_std',\n",
    " 'PTT_std',\n",
    " 'RBC_std',\n",
    " 'RDW_std',\n",
    " 'WBC x 1000_std',\n",
    " 'albumin_std',\n",
    " 'alkaline phos._std',\n",
    " 'anion gap_std',\n",
    " 'bedside glucose_std',\n",
    " 'bicarbonate_std',\n",
    " 'calcium_std',\n",
    " 'chloride_std',\n",
    " 'creatinine_std',\n",
    " 'glucose_std',\n",
    " 'lactate_std',\n",
    " 'magnesium_std',\n",
    " 'pH_std',\n",
    " 'paCO2_std',\n",
    " 'paO2_std',\n",
    " 'phosphate_std',\n",
    " 'platelets x 1000_std',\n",
    " 'potassium_std',\n",
    " 'sodium_std',\n",
    " 'total bilirubin_std',\n",
    " 'total protein_std',\n",
    " 'troponin - I_std',\n",
    " 'urinary specific gravity_std',\n",
    " 'mechanical_ventilation']"
   ]
  },
  {
   "cell_type": "code",
   "execution_count": null,
   "id": "83fb772b",
   "metadata": {},
   "outputs": [],
   "source": [
    "# Feature importance\n",
    "explainer = shap.TreeExplainer(XGBOOSTmodel)\n",
    "shap_values = explainer.shap_values(X_test_res)"
   ]
  },
  {
   "cell_type": "code",
   "execution_count": null,
   "id": "26754d75",
   "metadata": {},
   "outputs": [],
   "source": [
    "# Define colormap\n",
    "my_cmap = plt.get_cmap('Reds')\n",
    "\n",
    "f = plt.figure()\n",
    "shap.summary_plot(shap_values, X_test_res, feature_names = features, show=False, color_bar=False)\n",
    "\n",
    "# Change the colormap of the artists\n",
    "for fc in plt.gcf().get_children():\n",
    "    for fcc in fc.get_children():\n",
    "        if hasattr(fcc, \"set_cmap\"):\n",
    "            fcc.set_cmap(my_cmap)\n",
    "            fcc.set_clim(vmin=-0.2)\n",
    "plt.colorbar(fraction=0.01)"
   ]
  },
  {
   "cell_type": "code",
   "execution_count": null,
   "id": "ece49820",
   "metadata": {},
   "outputs": [],
   "source": []
  },
  {
   "cell_type": "markdown",
   "id": "1bfad6ee",
   "metadata": {},
   "source": [
    "# 24-hour prediction"
   ]
  },
  {
   "cell_type": "code",
   "execution_count": null,
   "id": "3f7565da",
   "metadata": {},
   "outputs": [],
   "source": [
    "X_train = np.load('X_train_static_24.npy')\n",
    "X_test = np.load('X_test_static_24.npy')\n",
    "y_train = np.load('y_train_static_24.npy')\n",
    "y_test = np.load('y_test_static_24.npy')"
   ]
  },
  {
   "cell_type": "code",
   "execution_count": null,
   "id": "81031dc6",
   "metadata": {},
   "outputs": [],
   "source": [
    "# Remove APACHE\n",
    "X_train = np.delete(X_train, 2, 1)\n",
    "X_test = np.delete(X_test, 2, 1)"
   ]
  },
  {
   "cell_type": "code",
   "execution_count": null,
   "id": "496acd1d",
   "metadata": {},
   "outputs": [],
   "source": [
    "imp_mean = IterativeImputer(random_state=0, max_iter = 10)\n",
    "imp_mean.fit(X_train)\n",
    "X_train_res = imp_mean.transform(X_train)\n",
    "X_test_res = imp_mean.transform(X_test)"
   ]
  },
  {
   "cell_type": "code",
   "execution_count": null,
   "id": "96eb32e2",
   "metadata": {},
   "outputs": [],
   "source": [
    "np.unique(y_train, return_counts=True)"
   ]
  },
  {
   "cell_type": "markdown",
   "id": "49e71294",
   "metadata": {},
   "source": [
    "# XGBoost"
   ]
  },
  {
   "cell_type": "code",
   "execution_count": null,
   "id": "3964755b",
   "metadata": {},
   "outputs": [],
   "source": [
    "# Define the model you are interested in\n",
    "XGBOOSTmodel = XGBClassifier(use_label_encoder=False)\n",
    "imputer = IterativeImputer(random_state=0, max_iter = 10)\n",
    "pipeline = Pipeline(steps=[('i', imputer), ('m', XGBOOSTmodel)])"
   ]
  },
  {
   "cell_type": "code",
   "execution_count": null,
   "id": "b50047a2",
   "metadata": {},
   "outputs": [],
   "source": [
    "# Tune the XGBoost model using Bayesian optimisation\n",
    "# Define the hyperparameters you want to sweep through (important it is manual for generalisation)\n",
    "# C for regularisation if doing regression\n",
    "# kernel if doing SVM for example\n",
    "\n",
    "# In this case we are tuning for XGBoost hyperparameters\n",
    "# Depth of tree\n",
    "max_depth = np.linspace(1, 12, 12, endpoint=True)\n",
    "max_depth = [round(x) for x in max_depth]\n",
    "# maximum features\n",
    "n_estimators = list(range(50, 400, 50))\n",
    "# Learning rate\n",
    "lr = [0.001, 0.01, 0.1, 0.3, 0.5, 0.7]\n",
    "# Regularisation for imbalanced data\n",
    "max_delta_step = [0, 1, 3, 5, 7, 10]\n",
    "# Gamma for overfitting control\n",
    "min_split_loss = [0, 0.5]\n",
    "# Balance weights for imbalanced classes for AUC\n",
    "scale_pos_weight = [7.08745445081]\n",
    "\n",
    "# Create the grid\n",
    "param_grid = {'m__max_depth': max_depth,\n",
    "               'm__n_estimators': n_estimators,\n",
    "               'm__learning_rate': lr,\n",
    "              'm__max_delta_step': max_delta_step,\n",
    "             'm__min_split_loss': min_split_loss,\n",
    "             'm__scale_pos_weight': scale_pos_weight}"
   ]
  },
  {
   "cell_type": "code",
   "execution_count": null,
   "id": "61d05bc6",
   "metadata": {},
   "outputs": [],
   "source": [
    "# Try with Bayesian optimisation for faster computation of tuning\n",
    "opt = BayesSearchCV(pipeline, param_grid, n_iter=50, cv=cv, verbose=1, refit=False, scoring='roc_auc')\n",
    "opt.fit(X_train, np.ravel(y_train))"
   ]
  },
  {
   "cell_type": "code",
   "execution_count": null,
   "id": "cf94b19d",
   "metadata": {},
   "outputs": [],
   "source": [
    "# With the following parameter combination being optimal\n",
    "print(\"Best parameter combo:\", opt.best_params_)\n",
    "# Having the following score\n",
    "print(\"Best AUROC:\", opt.best_score_)"
   ]
  },
  {
   "cell_type": "code",
   "execution_count": null,
   "id": "df080f8c",
   "metadata": {},
   "outputs": [],
   "source": [
    "# Test the model on standalone set\n",
    "XGBOOSTmodel = XGBClassifier(scale_pos_weight = 7.08745445081, max_depth = 12, n_estimators = 350,learning_rate = 0.1, min_split_loss = 0.0, max_delta_step = 10, use_label_encoder=False)"
   ]
  },
  {
   "cell_type": "code",
   "execution_count": null,
   "id": "38ae6b6d",
   "metadata": {},
   "outputs": [],
   "source": [
    "XGBOOSTmodel.fit(X_train_res, np.ravel(y_train))"
   ]
  },
  {
   "cell_type": "code",
   "execution_count": null,
   "id": "a3f09815",
   "metadata": {},
   "outputs": [],
   "source": [
    "print('Results:')\n",
    "print('AUROC is:', metrics.roc_auc_score(y_test, XGBOOSTmodel.predict_proba(X_test_res)[:,1]))\n",
    "print('Accuracy is:', metrics.accuracy_score(y_test, XGBOOSTmodel.predict(X_test_res)))\n",
    "print('Average Precision is:', metrics.average_precision_score(y_test, XGBOOSTmodel.predict_proba(X_test_res)[:,1]))\n",
    "print('Weighted F1 is:', metrics.f1_score(y_test, XGBOOSTmodel.predict(X_test_res), average='weighted'))\n",
    "print('Sensitivity is:', metrics.recall_score(y_test, XGBOOSTmodel.predict(X_test_res)))\n",
    "print('Balanced accuracy is:', metrics.balanced_accuracy_score(y_test, XGBOOSTmodel.predict(X_test_res)))\n",
    "print('Specificity is:', metrics.recall_score(y_test, XGBOOSTmodel.predict(X_test_res), pos_label=0))\n",
    "print('#################################################')"
   ]
  },
  {
   "cell_type": "code",
   "execution_count": null,
   "id": "8a96f747",
   "metadata": {},
   "outputs": [],
   "source": [
    "# Make metric plots\n",
    "metrics.plot_roc_curve(XGBOOSTmodel, X_test_res, y_test) \n",
    "metrics.plot_precision_recall_curve(XGBOOSTmodel, X_test_res, y_test) \n",
    "plt.show()"
   ]
  },
  {
   "cell_type": "code",
   "execution_count": null,
   "id": "1571421d",
   "metadata": {},
   "outputs": [],
   "source": [
    "# Feature importance\n",
    "explainer = shap.TreeExplainer(XGBOOSTmodel)\n",
    "shap_values = explainer.shap_values(X_test_res)"
   ]
  },
  {
   "cell_type": "code",
   "execution_count": null,
   "id": "a1afe040",
   "metadata": {},
   "outputs": [],
   "source": [
    "# Define colormap\n",
    "my_cmap = plt.get_cmap('Reds')\n",
    "\n",
    "f = plt.figure()\n",
    "shap.summary_plot(shap_values, X_test_res, feature_names = features, show=False, color_bar=False)\n",
    "\n",
    "# Change the colormap of the artists\n",
    "for fc in plt.gcf().get_children():\n",
    "    for fcc in fc.get_children():\n",
    "        if hasattr(fcc, \"set_cmap\"):\n",
    "            fcc.set_cmap(my_cmap)\n",
    "            fcc.set_clim(vmin=-0.2)\n",
    "plt.colorbar(fraction=0.01)"
   ]
  },
  {
   "cell_type": "markdown",
   "id": "9ea408c8",
   "metadata": {},
   "source": [
    "# 18-hour Prediction"
   ]
  },
  {
   "cell_type": "code",
   "execution_count": null,
   "id": "da0206c8",
   "metadata": {},
   "outputs": [],
   "source": [
    "X_train = np.load('X_train_static_18.npy')\n",
    "X_test = np.load('X_test_static_18.npy')\n",
    "y_train = np.load('y_train_static_18.npy')\n",
    "y_test = np.load('y_test_static_18.npy')"
   ]
  },
  {
   "cell_type": "code",
   "execution_count": null,
   "id": "b48a8a6a",
   "metadata": {},
   "outputs": [],
   "source": [
    "# Remove APACHE\n",
    "X_train = np.delete(X_train, 2, 1)\n",
    "X_test = np.delete(X_test, 2, 1)"
   ]
  },
  {
   "cell_type": "code",
   "execution_count": null,
   "id": "f439237b",
   "metadata": {},
   "outputs": [],
   "source": [
    "imp_mean = IterativeImputer(random_state=0, max_iter = 10)\n",
    "imp_mean.fit(X_train)\n",
    "X_train_res = imp_mean.transform(X_train)\n",
    "X_test_res = imp_mean.transform(X_test)"
   ]
  },
  {
   "cell_type": "code",
   "execution_count": null,
   "id": "76db3fd3",
   "metadata": {},
   "outputs": [],
   "source": [
    "np.unique(y_train, return_counts=True)"
   ]
  },
  {
   "cell_type": "markdown",
   "id": "bb4dae03",
   "metadata": {},
   "source": [
    "# XGBoost"
   ]
  },
  {
   "cell_type": "code",
   "execution_count": null,
   "id": "507b9d7e",
   "metadata": {},
   "outputs": [],
   "source": [
    "# Define the model you are interested in\n",
    "XGBOOSTmodel = XGBClassifier(use_label_encoder=False)\n",
    "imputer = IterativeImputer(random_state=0, max_iter = 10)\n",
    "pipeline = Pipeline(steps=[('i', imputer), ('m', XGBOOSTmodel)])"
   ]
  },
  {
   "cell_type": "code",
   "execution_count": null,
   "id": "4883beca",
   "metadata": {},
   "outputs": [],
   "source": [
    "# Tune the XGBoost model using Bayesian optimisation\n",
    "# Define the hyperparameters you want to sweep through (important it is manual for generalisation)\n",
    "# C for regularisation if doing regression\n",
    "# kernel if doing SVM for example\n",
    "\n",
    "# In this case we are tuning for XGBoost hyperparameters\n",
    "# Depth of tree\n",
    "max_depth = np.linspace(1, 12, 12, endpoint=True)\n",
    "max_depth = [round(x) for x in max_depth]\n",
    "# maximum features\n",
    "n_estimators = list(range(50, 400, 50))\n",
    "# Learning rate\n",
    "lr = [0.001, 0.01, 0.1, 0.3, 0.5, 0.7]\n",
    "# Regularisation for imbalanced data\n",
    "max_delta_step = [0, 1, 3, 5, 7, 10]\n",
    "# Gamma for overfitting control\n",
    "min_split_loss = [0, 0.5]\n",
    "# Balance weights for imbalanced classes for AUC\n",
    "scale_pos_weight = [7.65759312321]\n",
    "\n",
    "# Create the grid\n",
    "param_grid = {'m__max_depth': max_depth,\n",
    "               'm__n_estimators': n_estimators,\n",
    "               'm__learning_rate': lr,\n",
    "              'm__max_delta_step': max_delta_step,\n",
    "             'm__min_split_loss': min_split_loss,\n",
    "             'm__scale_pos_weight': scale_pos_weight}"
   ]
  },
  {
   "cell_type": "code",
   "execution_count": null,
   "id": "e5cc3d0e",
   "metadata": {},
   "outputs": [],
   "source": [
    "# Try with Bayesian optimisation for faster computation of tuning\n",
    "opt = BayesSearchCV(pipeline, param_grid, n_iter=50, cv=cv, verbose=1, refit=False, scoring='roc_auc')\n",
    "opt.fit(X_train, np.ravel(y_train))"
   ]
  },
  {
   "cell_type": "code",
   "execution_count": null,
   "id": "b288e6bc",
   "metadata": {},
   "outputs": [],
   "source": [
    "# With the following parameter combination being optimal\n",
    "print(\"Best parameter combo:\", opt.best_params_)\n",
    "# Having the following score\n",
    "print(\"Best AUROC:\", opt.best_score_)"
   ]
  },
  {
   "cell_type": "code",
   "execution_count": null,
   "id": "955626f7",
   "metadata": {},
   "outputs": [],
   "source": [
    "# Test the model on standalone set\n",
    "XGBOOSTmodel = XGBClassifier(scale_pos_weight = 7.65759312321, max_depth = 12, n_estimators = 350,learning_rate = 0.1, min_split_loss = 0.0, max_delta_step = 1, use_label_encoder=False)"
   ]
  },
  {
   "cell_type": "code",
   "execution_count": null,
   "id": "5c6d56ff",
   "metadata": {},
   "outputs": [],
   "source": [
    "XGBOOSTmodel.fit(X_train_res, np.ravel(y_train))"
   ]
  },
  {
   "cell_type": "code",
   "execution_count": null,
   "id": "3d4a4dfa",
   "metadata": {},
   "outputs": [],
   "source": [
    "print('Results:')\n",
    "print('AUROC is:', metrics.roc_auc_score(y_test, XGBOOSTmodel.predict_proba(X_test_res)[:,1]))\n",
    "print('Accuracy is:', metrics.accuracy_score(y_test, XGBOOSTmodel.predict(X_test_res)))\n",
    "print('Average Precision is:', metrics.average_precision_score(y_test, XGBOOSTmodel.predict_proba(X_test_res)[:,1]))\n",
    "print('Weighted F1 is:', metrics.f1_score(y_test, XGBOOSTmodel.predict(X_test_res), average='weighted'))\n",
    "print('Sensitivity is:', metrics.recall_score(y_test, XGBOOSTmodel.predict(X_test_res)))\n",
    "print('Balanced accuracy is:', metrics.balanced_accuracy_score(y_test, XGBOOSTmodel.predict(X_test_res)))\n",
    "print('Specificity is:', metrics.recall_score(y_test, XGBOOSTmodel.predict(X_test_res), pos_label=0))\n",
    "print('#################################################')"
   ]
  },
  {
   "cell_type": "code",
   "execution_count": null,
   "id": "553b7c67",
   "metadata": {},
   "outputs": [],
   "source": [
    "# Make metric plots\n",
    "metrics.plot_roc_curve(XGBOOSTmodel, X_test_res, y_test) \n",
    "metrics.plot_precision_recall_curve(XGBOOSTmodel, X_test_res, y_test) \n",
    "plt.show()"
   ]
  },
  {
   "cell_type": "code",
   "execution_count": null,
   "id": "553913dc",
   "metadata": {},
   "outputs": [],
   "source": [
    "# Feature importance\n",
    "explainer = shap.TreeExplainer(XGBOOSTmodel)\n",
    "shap_values = explainer.shap_values(X_test_res)"
   ]
  },
  {
   "cell_type": "code",
   "execution_count": null,
   "id": "a7dd2c85",
   "metadata": {},
   "outputs": [],
   "source": [
    "# Define colormap\n",
    "my_cmap = plt.get_cmap('Reds')\n",
    "\n",
    "f = plt.figure()\n",
    "shap.summary_plot(shap_values, X_test_res, feature_names = features, show=False, color_bar=False)\n",
    "\n",
    "# Change the colormap of the artists\n",
    "for fc in plt.gcf().get_children():\n",
    "    for fcc in fc.get_children():\n",
    "        if hasattr(fcc, \"set_cmap\"):\n",
    "            fcc.set_cmap(my_cmap)\n",
    "            fcc.set_clim(vmin=-0.2)\n",
    "plt.colorbar(fraction=0.01)"
   ]
  },
  {
   "cell_type": "markdown",
   "id": "34bea62b",
   "metadata": {},
   "source": [
    "# 12 hour Prediction"
   ]
  },
  {
   "cell_type": "code",
   "execution_count": null,
   "id": "ba9c7db6",
   "metadata": {},
   "outputs": [],
   "source": [
    "X_train = np.load('X_train_static_12.npy')\n",
    "X_test = np.load('X_test_static_12.npy')\n",
    "y_train = np.load('y_train_static_12.npy')\n",
    "y_test = np.load('y_test_static_12.npy')"
   ]
  },
  {
   "cell_type": "code",
   "execution_count": null,
   "id": "24296789",
   "metadata": {},
   "outputs": [],
   "source": [
    "# Remove APACHE\n",
    "X_train = np.delete(X_train, 2, 1)\n",
    "X_test = np.delete(X_test, 2, 1)"
   ]
  },
  {
   "cell_type": "code",
   "execution_count": null,
   "id": "6e60fb5e",
   "metadata": {},
   "outputs": [],
   "source": [
    "imp_mean = IterativeImputer(random_state=0)\n",
    "imp_mean.fit(X_train)\n",
    "X_train_res = imp_mean.transform(X_train)\n",
    "X_test_res = imp_mean.transform(X_test)"
   ]
  },
  {
   "cell_type": "code",
   "execution_count": null,
   "id": "87256444",
   "metadata": {},
   "outputs": [],
   "source": [
    "np.unique(y_train, return_counts=True)"
   ]
  },
  {
   "cell_type": "markdown",
   "id": "5d202910",
   "metadata": {},
   "source": [
    "# XGBoost"
   ]
  },
  {
   "cell_type": "code",
   "execution_count": null,
   "id": "5f4ca626",
   "metadata": {},
   "outputs": [],
   "source": [
    "# Define the model you are interested in\n",
    "XGBOOSTmodel = XGBClassifier(use_label_encoder=False)\n",
    "imputer = IterativeImputer(random_state=0, max_iter = 10)\n",
    "pipeline = Pipeline(steps=[('i', imputer), ('m', XGBOOSTmodel)])"
   ]
  },
  {
   "cell_type": "code",
   "execution_count": null,
   "id": "11f17ae0",
   "metadata": {},
   "outputs": [],
   "source": [
    "# Tune the XGBoost model using Bayesian optimisation\n",
    "# Define the hyperparameters you want to sweep through (important it is manual for generalisation)\n",
    "# C for regularisation if doing regression\n",
    "# kernel if doing SVM for example\n",
    "\n",
    "# In this case we are tuning for XGBoost hyperparameters\n",
    "# Depth of tree\n",
    "max_depth = np.linspace(1, 12, 12, endpoint=True)\n",
    "max_depth = [round(x) for x in max_depth]\n",
    "# maximum features\n",
    "n_estimators = list(range(50, 400, 50))\n",
    "# Learning rate\n",
    "lr = [0.001, 0.01, 0.1, 0.3, 0.5, 0.7]\n",
    "# Regularisation for imbalanced data\n",
    "max_delta_step = [0, 1, 3, 5, 7, 10]\n",
    "# Gamma for overfitting control\n",
    "min_split_loss = [0, 0.5]\n",
    "# Balance weights for imbalanced classes for AUC\n",
    "scale_pos_weight = [7.710456942]\n",
    "\n",
    "# Create the grid\n",
    "param_grid = {'m__max_depth': max_depth,\n",
    "               'm__n_estimators': n_estimators,\n",
    "               'm__learning_rate': lr,\n",
    "              'm__max_delta_step': max_delta_step,\n",
    "             'm__min_split_loss': min_split_loss,\n",
    "             'm__scale_pos_weight': scale_pos_weight}"
   ]
  },
  {
   "cell_type": "code",
   "execution_count": null,
   "id": "77d7b544",
   "metadata": {},
   "outputs": [],
   "source": [
    "# Try with Bayesian optimisation for faster computation of tuning\n",
    "opt = BayesSearchCV(pipeline, param_grid, n_iter=50, cv=cv, verbose=1, refit=False, scoring='roc_auc')\n",
    "opt.fit(X_train, np.ravel(y_train))"
   ]
  },
  {
   "cell_type": "code",
   "execution_count": null,
   "id": "9386c0cc",
   "metadata": {},
   "outputs": [],
   "source": [
    "# With the following parameter combination being optimal\n",
    "print(\"Best parameter combo:\", opt.best_params_)\n",
    "# Having the following score\n",
    "print(\"Best AUROC:\", opt.best_score_)"
   ]
  },
  {
   "cell_type": "code",
   "execution_count": null,
   "id": "a2457f78",
   "metadata": {},
   "outputs": [],
   "source": [
    "# Test the model on standalone set\n",
    "XGBOOSTmodel = XGBClassifier(scale_pos_weight = 7.710456942, max_depth = 12, n_estimators = 350,learning_rate = 0.1, min_split_loss = 0.0, max_delta_step = 1, use_label_encoder=False)"
   ]
  },
  {
   "cell_type": "code",
   "execution_count": null,
   "id": "108cf256",
   "metadata": {},
   "outputs": [],
   "source": [
    "XGBOOSTmodel.fit(X_train_res, np.ravel(y_train))"
   ]
  },
  {
   "cell_type": "code",
   "execution_count": null,
   "id": "01268826",
   "metadata": {},
   "outputs": [],
   "source": [
    "print('Results:')\n",
    "print('AUROC is:', metrics.roc_auc_score(y_test, XGBOOSTmodel.predict_proba(X_test_res)[:,1]))\n",
    "print('Accuracy is:', metrics.accuracy_score(y_test, XGBOOSTmodel.predict(X_test_res)))\n",
    "print('Average Precision is:', metrics.average_precision_score(y_test, XGBOOSTmodel.predict_proba(X_test_res)[:,1]))\n",
    "print('Weighted F1 is:', metrics.f1_score(y_test, XGBOOSTmodel.predict(X_test_res), average='weighted'))\n",
    "print('Sensitivity is:', metrics.recall_score(y_test, XGBOOSTmodel.predict(X_test_res)))\n",
    "print('Balanced accuracy is:', metrics.balanced_accuracy_score(y_test, XGBOOSTmodel.predict(X_test_res)))\n",
    "print('Specificity is:', metrics.recall_score(y_test, XGBOOSTmodel.predict(X_test_res), pos_label=0))\n",
    "print('#################################################')"
   ]
  },
  {
   "cell_type": "code",
   "execution_count": null,
   "id": "f50c3ba9",
   "metadata": {},
   "outputs": [],
   "source": [
    "# Feature importance\n",
    "explainer = shap.TreeExplainer(XGBOOSTmodel)\n",
    "shap_values = explainer.shap_values(X_test_res)"
   ]
  },
  {
   "cell_type": "code",
   "execution_count": null,
   "id": "79639c74",
   "metadata": {},
   "outputs": [],
   "source": [
    "# Define colormap\n",
    "my_cmap = plt.get_cmap('Reds')\n",
    "\n",
    "f = plt.figure()\n",
    "shap.summary_plot(shap_values, X_test_res, feature_names = features, show=False, color_bar=False)\n",
    "\n",
    "# Change the colormap of the artists\n",
    "for fc in plt.gcf().get_children():\n",
    "    for fcc in fc.get_children():\n",
    "        if hasattr(fcc, \"set_cmap\"):\n",
    "            fcc.set_cmap(my_cmap)\n",
    "            fcc.set_clim(vmin=-0.2)\n",
    "plt.colorbar(fraction=0.01)"
   ]
  },
  {
   "cell_type": "markdown",
   "id": "b934609b",
   "metadata": {},
   "source": [
    "# Try with Random Noise to see effects on Shapley values"
   ]
  },
  {
   "cell_type": "code",
   "execution_count": null,
   "id": "95006f8c",
   "metadata": {},
   "outputs": [],
   "source": [
    "X_train = np.load('X_train_static_6.npy')\n",
    "X_test = np.load('X_test_static_6.npy')\n",
    "y_train = np.load('y_train_static_6.npy')\n",
    "y_test = np.load('y_test_static_6.npy')"
   ]
  },
  {
   "cell_type": "code",
   "execution_count": null,
   "id": "90422343",
   "metadata": {},
   "outputs": [],
   "source": [
    "# Remove APACHE\n",
    "X_train = np.delete(X_train, 2, 1)\n",
    "X_test = np.delete(X_test, 2, 1)"
   ]
  },
  {
   "cell_type": "code",
   "execution_count": null,
   "id": "a3ab1f19",
   "metadata": {},
   "outputs": [],
   "source": [
    "X_train.shape, X_test.shape"
   ]
  },
  {
   "cell_type": "code",
   "execution_count": null,
   "id": "3456a752",
   "metadata": {},
   "outputs": [],
   "source": [
    "imp_mean = IterativeImputer(random_state=0, max_iter = 10)"
   ]
  },
  {
   "cell_type": "code",
   "execution_count": null,
   "id": "ccaf6030",
   "metadata": {},
   "outputs": [],
   "source": [
    "imp_mean.fit(X_train)\n",
    "X_train_res = imp_mean.transform(X_train)\n",
    "X_test_res = imp_mean.transform(X_test)"
   ]
  },
  {
   "cell_type": "code",
   "execution_count": null,
   "id": "10454f56",
   "metadata": {},
   "outputs": [],
   "source": [
    "mu, sigma = 0, 1\n",
    "noise_train = np.random.normal(mu, sigma, [20974,1]) \n",
    "noise_test = np.random.normal(mu, sigma, [5244,1]) \n",
    "\n",
    "X_train_res = np.hstack((noise_train,X_train_res))\n",
    "X_test_res = np.hstack((noise_test,X_test_res))"
   ]
  },
  {
   "cell_type": "code",
   "execution_count": null,
   "id": "406805d3",
   "metadata": {},
   "outputs": [],
   "source": [
    "# Test the model on standalone set\n",
    "XGBOOSTmodel = XGBClassifier(scale_pos_weight = 7.352847471127041, max_depth = 10, n_estimators = 200,learning_rate = 0.1, min_split_loss = 0.5, max_delta_step = 0, use_label_encoder=False)"
   ]
  },
  {
   "cell_type": "code",
   "execution_count": null,
   "id": "a03017c4",
   "metadata": {},
   "outputs": [],
   "source": [
    "XGBOOSTmodel.fit(X_train_res, np.ravel(y_train))"
   ]
  },
  {
   "cell_type": "code",
   "execution_count": null,
   "id": "82aa5302",
   "metadata": {},
   "outputs": [],
   "source": [
    "features = [\n",
    "    'Noise', 'secondary MI',\n",
    " 'Time Since Admission',\n",
    " 'gender',\n",
    " 'age',\n",
    " 'admissionheight',\n",
    " 'admissionweight',\n",
    " 'hour',\n",
    " 'teachingstatus',\n",
    " 'ethnicity_African American',\n",
    " 'ethnicity_Asian',\n",
    " 'ethnicity_Caucasian',\n",
    " 'ethnicity_Hispanic',\n",
    " 'ethnicity_Native American',\n",
    " 'ethnicity_Other/Unknown',\n",
    " 'unittype_CCU-CTICU',\n",
    " 'unittype_CSICU',\n",
    " 'unittype_CTICU',\n",
    " 'unittype_Cardiac ICU',\n",
    " 'unittype_MICU',\n",
    " 'unittype_Med-Surg ICU',\n",
    " 'unittype_Neuro ICU',\n",
    " 'unittype_SICU',\n",
    " 'unitadmitsource_Acute Care/Floor',\n",
    " 'unitadmitsource_Direct Admit',\n",
    " 'unitadmitsource_Emergency Department',\n",
    " 'unitadmitsource_Floor',\n",
    " 'unitadmitsource_Operating Room',\n",
    " 'unitadmitsource_Other Hospital',\n",
    " 'unitadmitsource_PACU',\n",
    " 'unitadmitsource_Recovery Room',\n",
    " 'unitadmitsource_Step-Down Unit (SDU)',\n",
    " 'unitadmitsource_misc',\n",
    " 'unitvisitnumber_1',\n",
    " 'unitvisitnumber_2',\n",
    " 'unitvisitnumber_3',\n",
    " 'unitvisitnumber_misc',\n",
    " 'unitstaytype_admit',\n",
    " 'unitstaytype_readmit',\n",
    " 'unitstaytype_transfer',\n",
    " 'physicianspeciality_Specialty Not Specified',\n",
    " 'physicianspeciality_cardiology',\n",
    " 'physicianspeciality_critical care medicine (CCM)',\n",
    " 'physicianspeciality_family practice',\n",
    " 'physicianspeciality_hospitalist',\n",
    " 'physicianspeciality_internal medicine',\n",
    " 'physicianspeciality_misc',\n",
    " 'physicianspeciality_neurology',\n",
    " 'physicianspeciality_other',\n",
    " 'physicianspeciality_pulmonary',\n",
    " 'physicianspeciality_pulmonary/CCM',\n",
    " 'physicianspeciality_surgery-cardiac',\n",
    " 'physicianspeciality_surgery-general',\n",
    " 'physicianspeciality_surgery-neuro',\n",
    " 'physicianspeciality_surgery-trauma',\n",
    " 'physicianspeciality_surgery-vascular',\n",
    " 'physicianspeciality_unknown',\n",
    " 'numbedscategory_100 - 249',\n",
    " 'numbedscategory_250 - 499',\n",
    " 'numbedscategory_<100',\n",
    " 'numbedscategory_>= 500',\n",
    " 'region_Midwest',\n",
    " 'region_Northeast',\n",
    " 'region_South',\n",
    " 'region_West',\n",
    " 'noninvasivesystolic_mean',\n",
    " 'noninvasivediastolic_mean',\n",
    " 'noninvasivemean_mean',\n",
    " 'noninvasivesystolic_std',\n",
    " 'noninvasivediastolic_std',\n",
    " 'noninvasivemean_std',\n",
    " '-basos_mean',\n",
    " '-eos_mean',\n",
    " '-lymphs_mean',\n",
    " '-monos_mean',\n",
    " '-polys_mean',\n",
    " 'ALT (SGPT)_mean',\n",
    " 'AST (SGOT)_mean',\n",
    " 'BUN_mean',\n",
    " 'Base Excess_mean',\n",
    " 'FiO2_mean',\n",
    " 'HCO3_mean',\n",
    " 'Hct_mean',\n",
    " 'Hgb_mean',\n",
    " 'MCH_mean',\n",
    " 'MCHC_mean',\n",
    " 'MCV_mean',\n",
    " 'MPV_mean',\n",
    " 'O2 Sat (%)_mean',\n",
    " 'PT_mean',\n",
    " 'PT - INR_mean',\n",
    " 'PTT_mean',\n",
    " 'RBC_mean',\n",
    " 'RDW_mean',\n",
    " 'WBC x 1000_mean',\n",
    " 'albumin_mean',\n",
    " 'alkaline phos._mean',\n",
    " 'anion gap_mean',\n",
    " 'bedside glucose_mean',\n",
    " 'bicarbonate_mean',\n",
    " 'calcium_mean',\n",
    " 'chloride_mean',\n",
    " 'creatinine_mean',\n",
    " 'glucose_mean',\n",
    " 'lactate_mean',\n",
    " 'magnesium_mean',\n",
    " 'pH_mean',\n",
    " 'paCO2_mean',\n",
    " 'paO2_mean',\n",
    " 'phosphate_mean',\n",
    " 'platelets x 1000_mean',\n",
    " 'potassium_mean',\n",
    " 'sodium_mean',\n",
    " 'total bilirubin_mean',\n",
    " 'total protein_mean',\n",
    " 'troponin - I_mean',\n",
    " 'urinary specific gravity_mean',\n",
    " '-basos_std',\n",
    " '-eos_std',\n",
    " '-lymphs_std',\n",
    " '-monos_std',\n",
    " '-polys_std',\n",
    " 'ALT (SGPT)_std',\n",
    " 'AST (SGOT)_std',\n",
    " 'BUN_std',\n",
    " 'Base Excess_std',\n",
    " 'FiO2_std',\n",
    " 'HCO3_std',\n",
    " 'Hct_std',\n",
    " 'Hgb_std',\n",
    " 'MCH_std',\n",
    " 'MCHC_std',\n",
    " 'MCV_std',\n",
    " 'MPV_std',\n",
    " 'O2 Sat (%)_std',\n",
    " 'PT_std',\n",
    " 'PT - INR_std',\n",
    " 'PTT_std',\n",
    " 'RBC_std',\n",
    " 'RDW_std',\n",
    " 'WBC x 1000_std',\n",
    " 'albumin_std',\n",
    " 'alkaline phos._std',\n",
    " 'anion gap_std',\n",
    " 'bedside glucose_std',\n",
    " 'bicarbonate_std',\n",
    " 'calcium_std',\n",
    " 'chloride_std',\n",
    " 'creatinine_std',\n",
    " 'glucose_std',\n",
    " 'lactate_std',\n",
    " 'magnesium_std',\n",
    " 'pH_std',\n",
    " 'paCO2_std',\n",
    " 'paO2_std',\n",
    " 'phosphate_std',\n",
    " 'platelets x 1000_std',\n",
    " 'potassium_std',\n",
    " 'sodium_std',\n",
    " 'total bilirubin_std',\n",
    " 'total protein_std',\n",
    " 'troponin - I_std',\n",
    " 'urinary specific gravity_std',\n",
    " 'mechanical_ventilation']"
   ]
  },
  {
   "cell_type": "code",
   "execution_count": null,
   "id": "a0f69122",
   "metadata": {},
   "outputs": [],
   "source": [
    "# Feature importance\n",
    "explainer = shap.TreeExplainer(XGBOOSTmodel)\n",
    "shap_values = explainer.shap_values(X_test_res)"
   ]
  },
  {
   "cell_type": "code",
   "execution_count": null,
   "id": "acc629f7",
   "metadata": {},
   "outputs": [],
   "source": [
    "# Define colormap\n",
    "my_cmap = plt.get_cmap('Reds')\n",
    "\n",
    "f = plt.figure()\n",
    "shap.summary_plot(shap_values, X_test_res, feature_names = features, show=False, color_bar=False)\n",
    "\n",
    "# Change the colormap of the artists\n",
    "for fc in plt.gcf().get_children():\n",
    "    for fcc in fc.get_children():\n",
    "        if hasattr(fcc, \"set_cmap\"):\n",
    "            fcc.set_cmap(my_cmap)\n",
    "            fcc.set_clim(vmin=-0.2)\n",
    "plt.colorbar(fraction=0.01)"
   ]
  },
  {
   "cell_type": "code",
   "execution_count": null,
   "id": "3f1946d1",
   "metadata": {},
   "outputs": [],
   "source": []
  }
 ],
 "metadata": {
  "kernelspec": {
   "display_name": "Python 3 (ipykernel)",
   "language": "python",
   "name": "python3"
  },
  "language_info": {
   "codemirror_mode": {
    "name": "ipython",
    "version": 3
   },
   "file_extension": ".py",
   "mimetype": "text/x-python",
   "name": "python",
   "nbconvert_exporter": "python",
   "pygments_lexer": "ipython3",
   "version": "3.8.13"
  }
 },
 "nbformat": 4,
 "nbformat_minor": 5
}
